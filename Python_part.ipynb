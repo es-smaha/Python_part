{
  "nbformat": 4,
  "nbformat_minor": 0,
  "metadata": {
    "colab": {
      "provenance": [],
      "collapsed_sections": [],
      "authorship_tag": "ABX9TyOpH+ttEJL+bbAqtUeWRrkc",
      "include_colab_link": true
    },
    "kernelspec": {
      "name": "python3",
      "display_name": "Python 3"
    },
    "language_info": {
      "name": "python"
    }
  },
  "cells": [
    {
      "cell_type": "markdown",
      "metadata": {
        "id": "view-in-github",
        "colab_type": "text"
      },
      "source": [
        "<a href=\"https://colab.research.google.com/github/es-smaha/Python_part/blob/main/Python_part.ipynb\" target=\"_parent\"><img src=\"https://colab.research.google.com/assets/colab-badge.svg\" alt=\"Open In Colab\"/></a>"
      ]
    },
    {
      "cell_type": "code",
      "execution_count": 209,
      "metadata": {
        "id": "dDSH2epch2E2"
      },
      "outputs": [],
      "source": [
        "import matplotlib.pyplot as plt\n",
        "import seaborn as sns\n",
        "import pandas as pd\n",
        "import numpy as np"
      ]
    },
    {
      "cell_type": "code",
      "source": [
        "df = pd.read_csv('dataset_bi_engineer.csv' , sep =\",\")\n",
        "df\n",
        "\n"
      ],
      "metadata": {
        "colab": {
          "base_uri": "https://localhost:8080/",
          "height": 468
        },
        "id": "klrEvqQ1iHwg",
        "outputId": "288b5f70-9b2f-46e8-ec94-97498457eee5"
      },
      "execution_count": 210,
      "outputs": [
        {
          "output_type": "execute_result",
          "data": {
            "text/plain": [
              "       Unnamed: 0  IdUser          LabelPublication  Device  \\\n",
              "0               0       0                    Octane  tablet   \n",
              "1               1       0                    Octane  tablet   \n",
              "2               2       0  Cuisine a & d Hors Série  tablet   \n",
              "3               3       0                    Octane  tablet   \n",
              "4               4       0                    Octane  tablet   \n",
              "...           ...     ...                       ...     ...   \n",
              "93192       93192    2646           Elle Décoration  tablet   \n",
              "93193       93193    2646                 Le Revenu  tablet   \n",
              "93194       93194    2646    L'Univers de la Maison  tablet   \n",
              "93195       93195    2646    L'Univers de la Maison  tablet   \n",
              "93196       93196    2646       Maisons de Campagne  tablet   \n",
              "\n",
              "                 Category                Date  SessionDuration  \n",
              "0             Auto & Moto  2018-11-02 0:00:00             3751  \n",
              "1             Auto & Moto  2018-11-02 0:00:00             3751  \n",
              "2                 Cuisine  2018-11-02 0:00:00             3751  \n",
              "3             Auto & Moto  2018-11-02 0:00:00             3751  \n",
              "4             Auto & Moto  2018-11-02 0:00:00             3751  \n",
              "...                   ...                 ...              ...  \n",
              "93192       Déco & Design  2018-11-22 0:00:00             2418  \n",
              "93193  Presse spécialisée  2018-11-24 0:00:00              999  \n",
              "93194       Déco & Design  2018-11-25 0:00:00             2866  \n",
              "93195       Déco & Design  2018-11-25 0:00:00             2866  \n",
              "93196       Déco & Design  2018-11-25 0:00:00             2866  \n",
              "\n",
              "[93197 rows x 7 columns]"
            ],
            "text/html": [
              "\n",
              "  <div id=\"df-4a25d978-a400-4448-88a6-b58ebe398dce\">\n",
              "    <div class=\"colab-df-container\">\n",
              "      <div>\n",
              "<style scoped>\n",
              "    .dataframe tbody tr th:only-of-type {\n",
              "        vertical-align: middle;\n",
              "    }\n",
              "\n",
              "    .dataframe tbody tr th {\n",
              "        vertical-align: top;\n",
              "    }\n",
              "\n",
              "    .dataframe thead th {\n",
              "        text-align: right;\n",
              "    }\n",
              "</style>\n",
              "<table border=\"1\" class=\"dataframe\">\n",
              "  <thead>\n",
              "    <tr style=\"text-align: right;\">\n",
              "      <th></th>\n",
              "      <th>Unnamed: 0</th>\n",
              "      <th>IdUser</th>\n",
              "      <th>LabelPublication</th>\n",
              "      <th>Device</th>\n",
              "      <th>Category</th>\n",
              "      <th>Date</th>\n",
              "      <th>SessionDuration</th>\n",
              "    </tr>\n",
              "  </thead>\n",
              "  <tbody>\n",
              "    <tr>\n",
              "      <th>0</th>\n",
              "      <td>0</td>\n",
              "      <td>0</td>\n",
              "      <td>Octane</td>\n",
              "      <td>tablet</td>\n",
              "      <td>Auto &amp; Moto</td>\n",
              "      <td>2018-11-02 0:00:00</td>\n",
              "      <td>3751</td>\n",
              "    </tr>\n",
              "    <tr>\n",
              "      <th>1</th>\n",
              "      <td>1</td>\n",
              "      <td>0</td>\n",
              "      <td>Octane</td>\n",
              "      <td>tablet</td>\n",
              "      <td>Auto &amp; Moto</td>\n",
              "      <td>2018-11-02 0:00:00</td>\n",
              "      <td>3751</td>\n",
              "    </tr>\n",
              "    <tr>\n",
              "      <th>2</th>\n",
              "      <td>2</td>\n",
              "      <td>0</td>\n",
              "      <td>Cuisine a &amp; d Hors Série</td>\n",
              "      <td>tablet</td>\n",
              "      <td>Cuisine</td>\n",
              "      <td>2018-11-02 0:00:00</td>\n",
              "      <td>3751</td>\n",
              "    </tr>\n",
              "    <tr>\n",
              "      <th>3</th>\n",
              "      <td>3</td>\n",
              "      <td>0</td>\n",
              "      <td>Octane</td>\n",
              "      <td>tablet</td>\n",
              "      <td>Auto &amp; Moto</td>\n",
              "      <td>2018-11-02 0:00:00</td>\n",
              "      <td>3751</td>\n",
              "    </tr>\n",
              "    <tr>\n",
              "      <th>4</th>\n",
              "      <td>4</td>\n",
              "      <td>0</td>\n",
              "      <td>Octane</td>\n",
              "      <td>tablet</td>\n",
              "      <td>Auto &amp; Moto</td>\n",
              "      <td>2018-11-02 0:00:00</td>\n",
              "      <td>3751</td>\n",
              "    </tr>\n",
              "    <tr>\n",
              "      <th>...</th>\n",
              "      <td>...</td>\n",
              "      <td>...</td>\n",
              "      <td>...</td>\n",
              "      <td>...</td>\n",
              "      <td>...</td>\n",
              "      <td>...</td>\n",
              "      <td>...</td>\n",
              "    </tr>\n",
              "    <tr>\n",
              "      <th>93192</th>\n",
              "      <td>93192</td>\n",
              "      <td>2646</td>\n",
              "      <td>Elle Décoration</td>\n",
              "      <td>tablet</td>\n",
              "      <td>Déco &amp; Design</td>\n",
              "      <td>2018-11-22 0:00:00</td>\n",
              "      <td>2418</td>\n",
              "    </tr>\n",
              "    <tr>\n",
              "      <th>93193</th>\n",
              "      <td>93193</td>\n",
              "      <td>2646</td>\n",
              "      <td>Le Revenu</td>\n",
              "      <td>tablet</td>\n",
              "      <td>Presse spécialisée</td>\n",
              "      <td>2018-11-24 0:00:00</td>\n",
              "      <td>999</td>\n",
              "    </tr>\n",
              "    <tr>\n",
              "      <th>93194</th>\n",
              "      <td>93194</td>\n",
              "      <td>2646</td>\n",
              "      <td>L'Univers de la Maison</td>\n",
              "      <td>tablet</td>\n",
              "      <td>Déco &amp; Design</td>\n",
              "      <td>2018-11-25 0:00:00</td>\n",
              "      <td>2866</td>\n",
              "    </tr>\n",
              "    <tr>\n",
              "      <th>93195</th>\n",
              "      <td>93195</td>\n",
              "      <td>2646</td>\n",
              "      <td>L'Univers de la Maison</td>\n",
              "      <td>tablet</td>\n",
              "      <td>Déco &amp; Design</td>\n",
              "      <td>2018-11-25 0:00:00</td>\n",
              "      <td>2866</td>\n",
              "    </tr>\n",
              "    <tr>\n",
              "      <th>93196</th>\n",
              "      <td>93196</td>\n",
              "      <td>2646</td>\n",
              "      <td>Maisons de Campagne</td>\n",
              "      <td>tablet</td>\n",
              "      <td>Déco &amp; Design</td>\n",
              "      <td>2018-11-25 0:00:00</td>\n",
              "      <td>2866</td>\n",
              "    </tr>\n",
              "  </tbody>\n",
              "</table>\n",
              "<p>93197 rows × 7 columns</p>\n",
              "</div>\n",
              "      <button class=\"colab-df-convert\" onclick=\"convertToInteractive('df-4a25d978-a400-4448-88a6-b58ebe398dce')\"\n",
              "              title=\"Convert this dataframe to an interactive table.\"\n",
              "              style=\"display:none;\">\n",
              "        \n",
              "  <svg xmlns=\"http://www.w3.org/2000/svg\" height=\"24px\"viewBox=\"0 0 24 24\"\n",
              "       width=\"24px\">\n",
              "    <path d=\"M0 0h24v24H0V0z\" fill=\"none\"/>\n",
              "    <path d=\"M18.56 5.44l.94 2.06.94-2.06 2.06-.94-2.06-.94-.94-2.06-.94 2.06-2.06.94zm-11 1L8.5 8.5l.94-2.06 2.06-.94-2.06-.94L8.5 2.5l-.94 2.06-2.06.94zm10 10l.94 2.06.94-2.06 2.06-.94-2.06-.94-.94-2.06-.94 2.06-2.06.94z\"/><path d=\"M17.41 7.96l-1.37-1.37c-.4-.4-.92-.59-1.43-.59-.52 0-1.04.2-1.43.59L10.3 9.45l-7.72 7.72c-.78.78-.78 2.05 0 2.83L4 21.41c.39.39.9.59 1.41.59.51 0 1.02-.2 1.41-.59l7.78-7.78 2.81-2.81c.8-.78.8-2.07 0-2.86zM5.41 20L4 18.59l7.72-7.72 1.47 1.35L5.41 20z\"/>\n",
              "  </svg>\n",
              "      </button>\n",
              "      \n",
              "  <style>\n",
              "    .colab-df-container {\n",
              "      display:flex;\n",
              "      flex-wrap:wrap;\n",
              "      gap: 12px;\n",
              "    }\n",
              "\n",
              "    .colab-df-convert {\n",
              "      background-color: #E8F0FE;\n",
              "      border: none;\n",
              "      border-radius: 50%;\n",
              "      cursor: pointer;\n",
              "      display: none;\n",
              "      fill: #1967D2;\n",
              "      height: 32px;\n",
              "      padding: 0 0 0 0;\n",
              "      width: 32px;\n",
              "    }\n",
              "\n",
              "    .colab-df-convert:hover {\n",
              "      background-color: #E2EBFA;\n",
              "      box-shadow: 0px 1px 2px rgba(60, 64, 67, 0.3), 0px 1px 3px 1px rgba(60, 64, 67, 0.15);\n",
              "      fill: #174EA6;\n",
              "    }\n",
              "\n",
              "    [theme=dark] .colab-df-convert {\n",
              "      background-color: #3B4455;\n",
              "      fill: #D2E3FC;\n",
              "    }\n",
              "\n",
              "    [theme=dark] .colab-df-convert:hover {\n",
              "      background-color: #434B5C;\n",
              "      box-shadow: 0px 1px 3px 1px rgba(0, 0, 0, 0.15);\n",
              "      filter: drop-shadow(0px 1px 2px rgba(0, 0, 0, 0.3));\n",
              "      fill: #FFFFFF;\n",
              "    }\n",
              "  </style>\n",
              "\n",
              "      <script>\n",
              "        const buttonEl =\n",
              "          document.querySelector('#df-4a25d978-a400-4448-88a6-b58ebe398dce button.colab-df-convert');\n",
              "        buttonEl.style.display =\n",
              "          google.colab.kernel.accessAllowed ? 'block' : 'none';\n",
              "\n",
              "        async function convertToInteractive(key) {\n",
              "          const element = document.querySelector('#df-4a25d978-a400-4448-88a6-b58ebe398dce');\n",
              "          const dataTable =\n",
              "            await google.colab.kernel.invokeFunction('convertToInteractive',\n",
              "                                                     [key], {});\n",
              "          if (!dataTable) return;\n",
              "\n",
              "          const docLinkHtml = 'Like what you see? Visit the ' +\n",
              "            '<a target=\"_blank\" href=https://colab.research.google.com/notebooks/data_table.ipynb>data table notebook</a>'\n",
              "            + ' to learn more about interactive tables.';\n",
              "          element.innerHTML = '';\n",
              "          dataTable['output_type'] = 'display_data';\n",
              "          await google.colab.output.renderOutput(dataTable, element);\n",
              "          const docLink = document.createElement('div');\n",
              "          docLink.innerHTML = docLinkHtml;\n",
              "          element.appendChild(docLink);\n",
              "        }\n",
              "      </script>\n",
              "    </div>\n",
              "  </div>\n",
              "  "
            ]
          },
          "metadata": {},
          "execution_count": 210
        }
      ]
    },
    {
      "cell_type": "code",
      "source": [
        "#lets check how much our dataset contains \n",
        "df.shape"
      ],
      "metadata": {
        "colab": {
          "base_uri": "https://localhost:8080/"
        },
        "id": "r51IzLbNiVPW",
        "outputId": "9c4c8ec6-f5a1-4d25-9568-e0bdb924bd25"
      },
      "execution_count": 211,
      "outputs": [
        {
          "output_type": "execute_result",
          "data": {
            "text/plain": [
              "(93197, 7)"
            ]
          },
          "metadata": {},
          "execution_count": 211
        }
      ]
    },
    {
      "cell_type": "code",
      "source": [
        "#displayig data types \n",
        "df[\"IdUser\"] = df[\"IdUser\"].astype(object)\n",
        "df.info()"
      ],
      "metadata": {
        "colab": {
          "base_uri": "https://localhost:8080/"
        },
        "id": "rSr49w-0iZmD",
        "outputId": "57726235-a577-4a8c-c515-f77224462f5e"
      },
      "execution_count": 212,
      "outputs": [
        {
          "output_type": "stream",
          "name": "stdout",
          "text": [
            "<class 'pandas.core.frame.DataFrame'>\n",
            "RangeIndex: 93197 entries, 0 to 93196\n",
            "Data columns (total 7 columns):\n",
            " #   Column            Non-Null Count  Dtype \n",
            "---  ------            --------------  ----- \n",
            " 0   Unnamed: 0        93197 non-null  int64 \n",
            " 1   IdUser            93197 non-null  object\n",
            " 2   LabelPublication  93197 non-null  object\n",
            " 3   Device            93197 non-null  object\n",
            " 4   Category          93084 non-null  object\n",
            " 5   Date              93197 non-null  object\n",
            " 6   SessionDuration   93197 non-null  int64 \n",
            "dtypes: int64(2), object(5)\n",
            "memory usage: 5.0+ MB\n"
          ]
        }
      ]
    },
    {
      "cell_type": "code",
      "source": [
        "df.describe()  # for describing numerical info"
      ],
      "metadata": {
        "colab": {
          "base_uri": "https://localhost:8080/",
          "height": 300
        },
        "id": "dGyzX4CXidQL",
        "outputId": "9fce0dc5-15a9-406e-fea8-dba364641e85"
      },
      "execution_count": 213,
      "outputs": [
        {
          "output_type": "execute_result",
          "data": {
            "text/plain": [
              "         Unnamed: 0  SessionDuration\n",
              "count  93197.000000     93197.000000\n",
              "mean   46598.000000      2450.140037\n",
              "std    26903.800856      2639.717619\n",
              "min        0.000000         0.000000\n",
              "25%    23299.000000       556.000000\n",
              "50%    46598.000000      1684.000000\n",
              "75%    69897.000000      3436.000000\n",
              "max    93196.000000     25239.000000"
            ],
            "text/html": [
              "\n",
              "  <div id=\"df-0ed4aef6-e61c-45c8-94b1-08e93daaec88\">\n",
              "    <div class=\"colab-df-container\">\n",
              "      <div>\n",
              "<style scoped>\n",
              "    .dataframe tbody tr th:only-of-type {\n",
              "        vertical-align: middle;\n",
              "    }\n",
              "\n",
              "    .dataframe tbody tr th {\n",
              "        vertical-align: top;\n",
              "    }\n",
              "\n",
              "    .dataframe thead th {\n",
              "        text-align: right;\n",
              "    }\n",
              "</style>\n",
              "<table border=\"1\" class=\"dataframe\">\n",
              "  <thead>\n",
              "    <tr style=\"text-align: right;\">\n",
              "      <th></th>\n",
              "      <th>Unnamed: 0</th>\n",
              "      <th>SessionDuration</th>\n",
              "    </tr>\n",
              "  </thead>\n",
              "  <tbody>\n",
              "    <tr>\n",
              "      <th>count</th>\n",
              "      <td>93197.000000</td>\n",
              "      <td>93197.000000</td>\n",
              "    </tr>\n",
              "    <tr>\n",
              "      <th>mean</th>\n",
              "      <td>46598.000000</td>\n",
              "      <td>2450.140037</td>\n",
              "    </tr>\n",
              "    <tr>\n",
              "      <th>std</th>\n",
              "      <td>26903.800856</td>\n",
              "      <td>2639.717619</td>\n",
              "    </tr>\n",
              "    <tr>\n",
              "      <th>min</th>\n",
              "      <td>0.000000</td>\n",
              "      <td>0.000000</td>\n",
              "    </tr>\n",
              "    <tr>\n",
              "      <th>25%</th>\n",
              "      <td>23299.000000</td>\n",
              "      <td>556.000000</td>\n",
              "    </tr>\n",
              "    <tr>\n",
              "      <th>50%</th>\n",
              "      <td>46598.000000</td>\n",
              "      <td>1684.000000</td>\n",
              "    </tr>\n",
              "    <tr>\n",
              "      <th>75%</th>\n",
              "      <td>69897.000000</td>\n",
              "      <td>3436.000000</td>\n",
              "    </tr>\n",
              "    <tr>\n",
              "      <th>max</th>\n",
              "      <td>93196.000000</td>\n",
              "      <td>25239.000000</td>\n",
              "    </tr>\n",
              "  </tbody>\n",
              "</table>\n",
              "</div>\n",
              "      <button class=\"colab-df-convert\" onclick=\"convertToInteractive('df-0ed4aef6-e61c-45c8-94b1-08e93daaec88')\"\n",
              "              title=\"Convert this dataframe to an interactive table.\"\n",
              "              style=\"display:none;\">\n",
              "        \n",
              "  <svg xmlns=\"http://www.w3.org/2000/svg\" height=\"24px\"viewBox=\"0 0 24 24\"\n",
              "       width=\"24px\">\n",
              "    <path d=\"M0 0h24v24H0V0z\" fill=\"none\"/>\n",
              "    <path d=\"M18.56 5.44l.94 2.06.94-2.06 2.06-.94-2.06-.94-.94-2.06-.94 2.06-2.06.94zm-11 1L8.5 8.5l.94-2.06 2.06-.94-2.06-.94L8.5 2.5l-.94 2.06-2.06.94zm10 10l.94 2.06.94-2.06 2.06-.94-2.06-.94-.94-2.06-.94 2.06-2.06.94z\"/><path d=\"M17.41 7.96l-1.37-1.37c-.4-.4-.92-.59-1.43-.59-.52 0-1.04.2-1.43.59L10.3 9.45l-7.72 7.72c-.78.78-.78 2.05 0 2.83L4 21.41c.39.39.9.59 1.41.59.51 0 1.02-.2 1.41-.59l7.78-7.78 2.81-2.81c.8-.78.8-2.07 0-2.86zM5.41 20L4 18.59l7.72-7.72 1.47 1.35L5.41 20z\"/>\n",
              "  </svg>\n",
              "      </button>\n",
              "      \n",
              "  <style>\n",
              "    .colab-df-container {\n",
              "      display:flex;\n",
              "      flex-wrap:wrap;\n",
              "      gap: 12px;\n",
              "    }\n",
              "\n",
              "    .colab-df-convert {\n",
              "      background-color: #E8F0FE;\n",
              "      border: none;\n",
              "      border-radius: 50%;\n",
              "      cursor: pointer;\n",
              "      display: none;\n",
              "      fill: #1967D2;\n",
              "      height: 32px;\n",
              "      padding: 0 0 0 0;\n",
              "      width: 32px;\n",
              "    }\n",
              "\n",
              "    .colab-df-convert:hover {\n",
              "      background-color: #E2EBFA;\n",
              "      box-shadow: 0px 1px 2px rgba(60, 64, 67, 0.3), 0px 1px 3px 1px rgba(60, 64, 67, 0.15);\n",
              "      fill: #174EA6;\n",
              "    }\n",
              "\n",
              "    [theme=dark] .colab-df-convert {\n",
              "      background-color: #3B4455;\n",
              "      fill: #D2E3FC;\n",
              "    }\n",
              "\n",
              "    [theme=dark] .colab-df-convert:hover {\n",
              "      background-color: #434B5C;\n",
              "      box-shadow: 0px 1px 3px 1px rgba(0, 0, 0, 0.15);\n",
              "      filter: drop-shadow(0px 1px 2px rgba(0, 0, 0, 0.3));\n",
              "      fill: #FFFFFF;\n",
              "    }\n",
              "  </style>\n",
              "\n",
              "      <script>\n",
              "        const buttonEl =\n",
              "          document.querySelector('#df-0ed4aef6-e61c-45c8-94b1-08e93daaec88 button.colab-df-convert');\n",
              "        buttonEl.style.display =\n",
              "          google.colab.kernel.accessAllowed ? 'block' : 'none';\n",
              "\n",
              "        async function convertToInteractive(key) {\n",
              "          const element = document.querySelector('#df-0ed4aef6-e61c-45c8-94b1-08e93daaec88');\n",
              "          const dataTable =\n",
              "            await google.colab.kernel.invokeFunction('convertToInteractive',\n",
              "                                                     [key], {});\n",
              "          if (!dataTable) return;\n",
              "\n",
              "          const docLinkHtml = 'Like what you see? Visit the ' +\n",
              "            '<a target=\"_blank\" href=https://colab.research.google.com/notebooks/data_table.ipynb>data table notebook</a>'\n",
              "            + ' to learn more about interactive tables.';\n",
              "          element.innerHTML = '';\n",
              "          dataTable['output_type'] = 'display_data';\n",
              "          await google.colab.output.renderOutput(dataTable, element);\n",
              "          const docLink = document.createElement('div');\n",
              "          docLink.innerHTML = docLinkHtml;\n",
              "          element.appendChild(docLink);\n",
              "        }\n",
              "      </script>\n",
              "    </div>\n",
              "  </div>\n",
              "  "
            ]
          },
          "metadata": {},
          "execution_count": 213
        }
      ]
    },
    {
      "cell_type": "code",
      "source": [
        "df.describe(include=object) #for displaying object info \n",
        "\n",
        "# '''here we can see that we have 93197 Pulications in total but 93084 in category which means that there is some null values \n",
        "# in category columns '''\n"
      ],
      "metadata": {
        "colab": {
          "base_uri": "https://localhost:8080/",
          "height": 175
        },
        "id": "Fc5bCQn6innp",
        "outputId": "f85d910b-40c7-427e-d3dd-c48945436266"
      },
      "execution_count": 214,
      "outputs": [
        {
          "output_type": "execute_result",
          "data": {
            "text/plain": [
              "        IdUser LabelPublication  Device     Category                Date\n",
              "count    93197            93197   93197        93084               93197\n",
              "unique    2647             1470       2           21                  30\n",
              "top       2606      Paris Match  tablet  People & TV  2018-11-25 0:00:00\n",
              "freq       638             2644   72173        12071                4138"
            ],
            "text/html": [
              "\n",
              "  <div id=\"df-230296a3-509c-4768-92f6-411aaf4e2074\">\n",
              "    <div class=\"colab-df-container\">\n",
              "      <div>\n",
              "<style scoped>\n",
              "    .dataframe tbody tr th:only-of-type {\n",
              "        vertical-align: middle;\n",
              "    }\n",
              "\n",
              "    .dataframe tbody tr th {\n",
              "        vertical-align: top;\n",
              "    }\n",
              "\n",
              "    .dataframe thead th {\n",
              "        text-align: right;\n",
              "    }\n",
              "</style>\n",
              "<table border=\"1\" class=\"dataframe\">\n",
              "  <thead>\n",
              "    <tr style=\"text-align: right;\">\n",
              "      <th></th>\n",
              "      <th>IdUser</th>\n",
              "      <th>LabelPublication</th>\n",
              "      <th>Device</th>\n",
              "      <th>Category</th>\n",
              "      <th>Date</th>\n",
              "    </tr>\n",
              "  </thead>\n",
              "  <tbody>\n",
              "    <tr>\n",
              "      <th>count</th>\n",
              "      <td>93197</td>\n",
              "      <td>93197</td>\n",
              "      <td>93197</td>\n",
              "      <td>93084</td>\n",
              "      <td>93197</td>\n",
              "    </tr>\n",
              "    <tr>\n",
              "      <th>unique</th>\n",
              "      <td>2647</td>\n",
              "      <td>1470</td>\n",
              "      <td>2</td>\n",
              "      <td>21</td>\n",
              "      <td>30</td>\n",
              "    </tr>\n",
              "    <tr>\n",
              "      <th>top</th>\n",
              "      <td>2606</td>\n",
              "      <td>Paris Match</td>\n",
              "      <td>tablet</td>\n",
              "      <td>People &amp; TV</td>\n",
              "      <td>2018-11-25 0:00:00</td>\n",
              "    </tr>\n",
              "    <tr>\n",
              "      <th>freq</th>\n",
              "      <td>638</td>\n",
              "      <td>2644</td>\n",
              "      <td>72173</td>\n",
              "      <td>12071</td>\n",
              "      <td>4138</td>\n",
              "    </tr>\n",
              "  </tbody>\n",
              "</table>\n",
              "</div>\n",
              "      <button class=\"colab-df-convert\" onclick=\"convertToInteractive('df-230296a3-509c-4768-92f6-411aaf4e2074')\"\n",
              "              title=\"Convert this dataframe to an interactive table.\"\n",
              "              style=\"display:none;\">\n",
              "        \n",
              "  <svg xmlns=\"http://www.w3.org/2000/svg\" height=\"24px\"viewBox=\"0 0 24 24\"\n",
              "       width=\"24px\">\n",
              "    <path d=\"M0 0h24v24H0V0z\" fill=\"none\"/>\n",
              "    <path d=\"M18.56 5.44l.94 2.06.94-2.06 2.06-.94-2.06-.94-.94-2.06-.94 2.06-2.06.94zm-11 1L8.5 8.5l.94-2.06 2.06-.94-2.06-.94L8.5 2.5l-.94 2.06-2.06.94zm10 10l.94 2.06.94-2.06 2.06-.94-2.06-.94-.94-2.06-.94 2.06-2.06.94z\"/><path d=\"M17.41 7.96l-1.37-1.37c-.4-.4-.92-.59-1.43-.59-.52 0-1.04.2-1.43.59L10.3 9.45l-7.72 7.72c-.78.78-.78 2.05 0 2.83L4 21.41c.39.39.9.59 1.41.59.51 0 1.02-.2 1.41-.59l7.78-7.78 2.81-2.81c.8-.78.8-2.07 0-2.86zM5.41 20L4 18.59l7.72-7.72 1.47 1.35L5.41 20z\"/>\n",
              "  </svg>\n",
              "      </button>\n",
              "      \n",
              "  <style>\n",
              "    .colab-df-container {\n",
              "      display:flex;\n",
              "      flex-wrap:wrap;\n",
              "      gap: 12px;\n",
              "    }\n",
              "\n",
              "    .colab-df-convert {\n",
              "      background-color: #E8F0FE;\n",
              "      border: none;\n",
              "      border-radius: 50%;\n",
              "      cursor: pointer;\n",
              "      display: none;\n",
              "      fill: #1967D2;\n",
              "      height: 32px;\n",
              "      padding: 0 0 0 0;\n",
              "      width: 32px;\n",
              "    }\n",
              "\n",
              "    .colab-df-convert:hover {\n",
              "      background-color: #E2EBFA;\n",
              "      box-shadow: 0px 1px 2px rgba(60, 64, 67, 0.3), 0px 1px 3px 1px rgba(60, 64, 67, 0.15);\n",
              "      fill: #174EA6;\n",
              "    }\n",
              "\n",
              "    [theme=dark] .colab-df-convert {\n",
              "      background-color: #3B4455;\n",
              "      fill: #D2E3FC;\n",
              "    }\n",
              "\n",
              "    [theme=dark] .colab-df-convert:hover {\n",
              "      background-color: #434B5C;\n",
              "      box-shadow: 0px 1px 3px 1px rgba(0, 0, 0, 0.15);\n",
              "      filter: drop-shadow(0px 1px 2px rgba(0, 0, 0, 0.3));\n",
              "      fill: #FFFFFF;\n",
              "    }\n",
              "  </style>\n",
              "\n",
              "      <script>\n",
              "        const buttonEl =\n",
              "          document.querySelector('#df-230296a3-509c-4768-92f6-411aaf4e2074 button.colab-df-convert');\n",
              "        buttonEl.style.display =\n",
              "          google.colab.kernel.accessAllowed ? 'block' : 'none';\n",
              "\n",
              "        async function convertToInteractive(key) {\n",
              "          const element = document.querySelector('#df-230296a3-509c-4768-92f6-411aaf4e2074');\n",
              "          const dataTable =\n",
              "            await google.colab.kernel.invokeFunction('convertToInteractive',\n",
              "                                                     [key], {});\n",
              "          if (!dataTable) return;\n",
              "\n",
              "          const docLinkHtml = 'Like what you see? Visit the ' +\n",
              "            '<a target=\"_blank\" href=https://colab.research.google.com/notebooks/data_table.ipynb>data table notebook</a>'\n",
              "            + ' to learn more about interactive tables.';\n",
              "          element.innerHTML = '';\n",
              "          dataTable['output_type'] = 'display_data';\n",
              "          await google.colab.output.renderOutput(dataTable, element);\n",
              "          const docLink = document.createElement('div');\n",
              "          docLink.innerHTML = docLinkHtml;\n",
              "          element.appendChild(docLink);\n",
              "        }\n",
              "      </script>\n",
              "    </div>\n",
              "  </div>\n",
              "  "
            ]
          },
          "metadata": {},
          "execution_count": 214
        }
      ]
    },
    {
      "cell_type": "code",
      "source": [
        "df['Category'].isna().sum() "
      ],
      "metadata": {
        "colab": {
          "base_uri": "https://localhost:8080/"
        },
        "id": "dvrlWnTzi9IM",
        "outputId": "7ed58e38-67fb-41ab-dec4-5f2ffa85b105"
      },
      "execution_count": 215,
      "outputs": [
        {
          "output_type": "execute_result",
          "data": {
            "text/plain": [
              "113"
            ]
          },
          "metadata": {},
          "execution_count": 215
        }
      ]
    },
    {
      "cell_type": "code",
      "source": [
        "null_cat  = df[df.isna().any(axis=1)]\n",
        "pulication_with_no_cat = set(null_cat['LabelPublication'].tolist()) # here we will display those publications\n",
        "print(\" the pulications that belongs to no  category , in total there is \" + str(len(pulication_with_no_cat))  )\n",
        "print(pulication_with_no_cat )\n"
      ],
      "metadata": {
        "colab": {
          "base_uri": "https://localhost:8080/"
        },
        "id": "YpWeDu1gjHU7",
        "outputId": "a38afbac-6826-4270-bacd-d356b52cd787"
      },
      "execution_count": 216,
      "outputs": [
        {
          "output_type": "stream",
          "name": "stdout",
          "text": [
            " the pulications that belongs to no  category , in total there is 37\n",
            "{'Midi Libre Nîmes', \"Ça M''Intéresse Hors-Série\", 'Harvard Business Review', \"Chasseur d'Images\", 'Geo Histoire', 'Enduro by Moto Verte', \"Ça M'Intéresse Questions / Réponses\", 'Nord Littoral', 'Management Hors Série', \"Ça M'Intéresse\", 'Vogue Collections', 'Tout Comprendre Max', 'National Geographic Traveler Hors Série', 'Geo Aventure', 'Prima', 'Capital Hors-Série', 'National Geographic Hors-Série Sciences', 'La République du Centre Orléans', 'Midi Libre Sète', 'GQ UK', 'National Geographic Traveler', 'National Geographic Hors-Série', 'La Montagne Clermont-Métropole', \"Ça M'Intéresse Histoire\", 'Télé 2 Semaines', 'Maison & Jardin actuels', \"Ça M'Intéresse Hors-Série Le Guide\", 'Cuisine Actuelle Best Of', 'Geo Collection', 'Maison Décoration', 'The Economist', 'Sciences et Avenir Hors-Série', 'La Cucina Italiana Gli Speciali', 'Cuisine Actuelle Manger Mieux', 'Jeux Video News', 'Marie Claire Fashion Shows', 'AD Collector'}\n"
          ]
        }
      ]
    },
    {
      "cell_type": "markdown",
      "source": [
        "# 1- **how many unique users are there in this dataset ** **texte en gras**"
      ],
      "metadata": {
        "id": "xIrqlwmJjrF7"
      }
    },
    {
      "cell_type": "code",
      "source": [
        "# there is 2647 users \n",
        "print(\"there is \" + str(len(df['IdUser'].unique())) + \" unique values for users \")"
      ],
      "metadata": {
        "colab": {
          "base_uri": "https://localhost:8080/"
        },
        "id": "35vmXnMejOsR",
        "outputId": "8c4ac581-9e32-4cdf-fd38-20d64bb98e03"
      },
      "execution_count": 217,
      "outputs": [
        {
          "output_type": "stream",
          "name": "stdout",
          "text": [
            "there is 2647 unique values for users \n"
          ]
        }
      ]
    },
    {
      "cell_type": "code",
      "source": [
        "# users that appeared only once in the dataset  , there are 154 \n",
        "\n",
        "Unique_User ={}\n",
        "for user, value in df['IdUser'].value_counts().to_dict().items():\n",
        "    if(value == 1):\n",
        "        Unique_User[user] = value\n",
        "         \n",
        "print(\" Number of unique users :\" , len(Unique_User))\n"
      ],
      "metadata": {
        "colab": {
          "base_uri": "https://localhost:8080/"
        },
        "id": "fpd4YUUnj2l7",
        "outputId": "d609a7ba-4eea-4edd-9331-b7b61d562123"
      },
      "execution_count": 218,
      "outputs": [
        {
          "output_type": "stream",
          "name": "stdout",
          "text": [
            " Number of unique users : 154\n"
          ]
        }
      ]
    },
    {
      "cell_type": "markdown",
      "source": [
        "# **The top 5 most read publications on Tablet and smartphone ?**"
      ],
      "metadata": {
        "id": "u29-8apMkkDi"
      }
    },
    {
      "cell_type": "markdown",
      "source": [
        "method 1 : using group by and sort"
      ],
      "metadata": {
        "id": "j6xGEMayliU2"
      }
    },
    {
      "cell_type": "code",
      "source": [
        "''' using group by we can show in the same dataframe 5 top pubs ( from 0-4) for tablet '''\n",
        "''' and 5 top pubs ( from 5 to 9 for mobile) '''\n",
        "most_pub = df['LabelPublication'].groupby(df['Device']).value_counts().groupby(level=0).head(5).sort_values(ascending=False).to_frame('counts').reset_index()\n",
        "most_pub"
      ],
      "metadata": {
        "colab": {
          "base_uri": "https://localhost:8080/",
          "height": 363
        },
        "id": "6BJjuK7WkTCY",
        "outputId": "76094570-c8b4-4418-98e1-a30c0e1d01bb"
      },
      "execution_count": 219,
      "outputs": [
        {
          "output_type": "execute_result",
          "data": {
            "text/plain": [
              "   Device LabelPublication  counts\n",
              "0  tablet      Paris Match    2129\n",
              "1  tablet         Le Point    1868\n",
              "2  tablet           Closer    1684\n",
              "3  tablet           Public    1566\n",
              "4  tablet      Le Parisien    1484\n",
              "5  mobile      Le Parisien     995\n",
              "6  mobile           Public     650\n",
              "7  mobile       Paris Turf     591\n",
              "8  mobile           Closer     535\n",
              "9  mobile      Paris Match     515"
            ],
            "text/html": [
              "\n",
              "  <div id=\"df-b7179ba3-c8d4-4a42-b7c9-2d81677a51c8\">\n",
              "    <div class=\"colab-df-container\">\n",
              "      <div>\n",
              "<style scoped>\n",
              "    .dataframe tbody tr th:only-of-type {\n",
              "        vertical-align: middle;\n",
              "    }\n",
              "\n",
              "    .dataframe tbody tr th {\n",
              "        vertical-align: top;\n",
              "    }\n",
              "\n",
              "    .dataframe thead th {\n",
              "        text-align: right;\n",
              "    }\n",
              "</style>\n",
              "<table border=\"1\" class=\"dataframe\">\n",
              "  <thead>\n",
              "    <tr style=\"text-align: right;\">\n",
              "      <th></th>\n",
              "      <th>Device</th>\n",
              "      <th>LabelPublication</th>\n",
              "      <th>counts</th>\n",
              "    </tr>\n",
              "  </thead>\n",
              "  <tbody>\n",
              "    <tr>\n",
              "      <th>0</th>\n",
              "      <td>tablet</td>\n",
              "      <td>Paris Match</td>\n",
              "      <td>2129</td>\n",
              "    </tr>\n",
              "    <tr>\n",
              "      <th>1</th>\n",
              "      <td>tablet</td>\n",
              "      <td>Le Point</td>\n",
              "      <td>1868</td>\n",
              "    </tr>\n",
              "    <tr>\n",
              "      <th>2</th>\n",
              "      <td>tablet</td>\n",
              "      <td>Closer</td>\n",
              "      <td>1684</td>\n",
              "    </tr>\n",
              "    <tr>\n",
              "      <th>3</th>\n",
              "      <td>tablet</td>\n",
              "      <td>Public</td>\n",
              "      <td>1566</td>\n",
              "    </tr>\n",
              "    <tr>\n",
              "      <th>4</th>\n",
              "      <td>tablet</td>\n",
              "      <td>Le Parisien</td>\n",
              "      <td>1484</td>\n",
              "    </tr>\n",
              "    <tr>\n",
              "      <th>5</th>\n",
              "      <td>mobile</td>\n",
              "      <td>Le Parisien</td>\n",
              "      <td>995</td>\n",
              "    </tr>\n",
              "    <tr>\n",
              "      <th>6</th>\n",
              "      <td>mobile</td>\n",
              "      <td>Public</td>\n",
              "      <td>650</td>\n",
              "    </tr>\n",
              "    <tr>\n",
              "      <th>7</th>\n",
              "      <td>mobile</td>\n",
              "      <td>Paris Turf</td>\n",
              "      <td>591</td>\n",
              "    </tr>\n",
              "    <tr>\n",
              "      <th>8</th>\n",
              "      <td>mobile</td>\n",
              "      <td>Closer</td>\n",
              "      <td>535</td>\n",
              "    </tr>\n",
              "    <tr>\n",
              "      <th>9</th>\n",
              "      <td>mobile</td>\n",
              "      <td>Paris Match</td>\n",
              "      <td>515</td>\n",
              "    </tr>\n",
              "  </tbody>\n",
              "</table>\n",
              "</div>\n",
              "      <button class=\"colab-df-convert\" onclick=\"convertToInteractive('df-b7179ba3-c8d4-4a42-b7c9-2d81677a51c8')\"\n",
              "              title=\"Convert this dataframe to an interactive table.\"\n",
              "              style=\"display:none;\">\n",
              "        \n",
              "  <svg xmlns=\"http://www.w3.org/2000/svg\" height=\"24px\"viewBox=\"0 0 24 24\"\n",
              "       width=\"24px\">\n",
              "    <path d=\"M0 0h24v24H0V0z\" fill=\"none\"/>\n",
              "    <path d=\"M18.56 5.44l.94 2.06.94-2.06 2.06-.94-2.06-.94-.94-2.06-.94 2.06-2.06.94zm-11 1L8.5 8.5l.94-2.06 2.06-.94-2.06-.94L8.5 2.5l-.94 2.06-2.06.94zm10 10l.94 2.06.94-2.06 2.06-.94-2.06-.94-.94-2.06-.94 2.06-2.06.94z\"/><path d=\"M17.41 7.96l-1.37-1.37c-.4-.4-.92-.59-1.43-.59-.52 0-1.04.2-1.43.59L10.3 9.45l-7.72 7.72c-.78.78-.78 2.05 0 2.83L4 21.41c.39.39.9.59 1.41.59.51 0 1.02-.2 1.41-.59l7.78-7.78 2.81-2.81c.8-.78.8-2.07 0-2.86zM5.41 20L4 18.59l7.72-7.72 1.47 1.35L5.41 20z\"/>\n",
              "  </svg>\n",
              "      </button>\n",
              "      \n",
              "  <style>\n",
              "    .colab-df-container {\n",
              "      display:flex;\n",
              "      flex-wrap:wrap;\n",
              "      gap: 12px;\n",
              "    }\n",
              "\n",
              "    .colab-df-convert {\n",
              "      background-color: #E8F0FE;\n",
              "      border: none;\n",
              "      border-radius: 50%;\n",
              "      cursor: pointer;\n",
              "      display: none;\n",
              "      fill: #1967D2;\n",
              "      height: 32px;\n",
              "      padding: 0 0 0 0;\n",
              "      width: 32px;\n",
              "    }\n",
              "\n",
              "    .colab-df-convert:hover {\n",
              "      background-color: #E2EBFA;\n",
              "      box-shadow: 0px 1px 2px rgba(60, 64, 67, 0.3), 0px 1px 3px 1px rgba(60, 64, 67, 0.15);\n",
              "      fill: #174EA6;\n",
              "    }\n",
              "\n",
              "    [theme=dark] .colab-df-convert {\n",
              "      background-color: #3B4455;\n",
              "      fill: #D2E3FC;\n",
              "    }\n",
              "\n",
              "    [theme=dark] .colab-df-convert:hover {\n",
              "      background-color: #434B5C;\n",
              "      box-shadow: 0px 1px 3px 1px rgba(0, 0, 0, 0.15);\n",
              "      filter: drop-shadow(0px 1px 2px rgba(0, 0, 0, 0.3));\n",
              "      fill: #FFFFFF;\n",
              "    }\n",
              "  </style>\n",
              "\n",
              "      <script>\n",
              "        const buttonEl =\n",
              "          document.querySelector('#df-b7179ba3-c8d4-4a42-b7c9-2d81677a51c8 button.colab-df-convert');\n",
              "        buttonEl.style.display =\n",
              "          google.colab.kernel.accessAllowed ? 'block' : 'none';\n",
              "\n",
              "        async function convertToInteractive(key) {\n",
              "          const element = document.querySelector('#df-b7179ba3-c8d4-4a42-b7c9-2d81677a51c8');\n",
              "          const dataTable =\n",
              "            await google.colab.kernel.invokeFunction('convertToInteractive',\n",
              "                                                     [key], {});\n",
              "          if (!dataTable) return;\n",
              "\n",
              "          const docLinkHtml = 'Like what you see? Visit the ' +\n",
              "            '<a target=\"_blank\" href=https://colab.research.google.com/notebooks/data_table.ipynb>data table notebook</a>'\n",
              "            + ' to learn more about interactive tables.';\n",
              "          element.innerHTML = '';\n",
              "          dataTable['output_type'] = 'display_data';\n",
              "          await google.colab.output.renderOutput(dataTable, element);\n",
              "          const docLink = document.createElement('div');\n",
              "          docLink.innerHTML = docLinkHtml;\n",
              "          element.appendChild(docLink);\n",
              "        }\n",
              "      </script>\n",
              "    </div>\n",
              "  </div>\n",
              "  "
            ]
          },
          "metadata": {},
          "execution_count": 219
        }
      ]
    },
    {
      "cell_type": "markdown",
      "source": [
        "methode 2 : value_counts() and dislaying piecharts "
      ],
      "metadata": {
        "id": "sulGT731lquu"
      }
    },
    {
      "cell_type": "code",
      "source": [
        "data_tablet = df[df['Device'] == 'tablet']\n",
        "data_tablet['LabelPublication'].value_counts()[:5].plot.pie(autopct='%1.1f%%', shadow=True, startangle=90)\n",
        "\n",
        "plt.title(\"Top 5 publication by tablet\", bbox={'facecolor':'0.8', 'pad':5})\n",
        "plt.show()"
      ],
      "metadata": {
        "colab": {
          "base_uri": "https://localhost:8080/",
          "height": 264
        },
        "id": "FLznmMCvlZCF",
        "outputId": "a891725a-eeed-4326-8587-12882023915b"
      },
      "execution_count": 220,
      "outputs": [
        {
          "output_type": "display_data",
          "data": {
            "text/plain": [
              "<Figure size 432x288 with 1 Axes>"
            ],
            "image/png": "[encoded data removed]"
          },
          "metadata": {}
        }
      ]
    },
    {
      "cell_type": "code",
      "source": [
        "data_Phone = df[df['Device'] == 'mobile']\n",
        "data_Phone['LabelPublication'].value_counts()[:5].plot.pie(autopct='%1.1f%%', shadow=True, startangle=90)\n",
        "plt.title(\"Top 5 publication by mobile\", bbox={'facecolor':'0.8', 'pad':5})\n",
        "plt.show()"
      ],
      "metadata": {
        "colab": {
          "base_uri": "https://localhost:8080/",
          "height": 264
        },
        "id": "1rm9MAGNl4yG",
        "outputId": "967e64eb-b5cd-4f71-b920-79c5a0b5bd67"
      },
      "execution_count": 221,
      "outputs": [
        {
          "output_type": "display_data",
          "data": {
            "text/plain": [
              "<Figure size 432x288 with 1 Axes>"
            ],
            "image/png": "[encoded data removed]"
          },
          "metadata": {}
        }
      ]
    },
    {
      "cell_type": "markdown",
      "source": [
        "# **The 3 categories with the most readers after November 15, 2018 ?**"
      ],
      "metadata": {
        "id": "g7X3tgGunUxC"
      }
    },
    {
      "cell_type": "code",
      "source": [
        "# first we convert date to datetime \n",
        "df[\"Date_time\"] = df['Date'].apply(lambda x:pd.to_datetime(x))"
      ],
      "metadata": {
        "id": "tUDkf9OJnJN_"
      },
      "execution_count": 222,
      "outputs": []
    },
    {
      "cell_type": "code",
      "source": [
        "data_afterDate = df[df['Date_time'] > pd.to_datetime('2018-11-15')]\n",
        "data_afterDate['Category'].value_counts()[:3]\n",
        "#top categories here are people & tv , Quotidiens , Actualites "
      ],
      "metadata": {
        "colab": {
          "base_uri": "https://localhost:8080/"
        },
        "id": "17NVLGVAnpUq",
        "outputId": "b70c5cff-862a-4481-9842-2f1d34fdfe8c"
      },
      "execution_count": 223,
      "outputs": [
        {
          "output_type": "execute_result",
          "data": {
            "text/plain": [
              "People & TV    6264\n",
              "Quotidiens     5813\n",
              "Actualités     5810\n",
              "Name: Category, dtype: int64"
            ]
          },
          "metadata": {},
          "execution_count": 223
        }
      ]
    },
    {
      "cell_type": "code",
      "source": [
        "data_afterDate['Category'].value_counts()[:3].plot.bar()\n",
        "plt.xlabel(\"Categories\")\n",
        "plt.ylabel(\"Categories Frequency\")\n",
        "plt.title(\"top 3 categories with most readers after November 15, 2018\")"
      ],
      "metadata": {
        "colab": {
          "base_uri": "https://localhost:8080/",
          "height": 362
        },
        "id": "VlfwpkYvn25g",
        "outputId": "f130a7d0-dfc8-4912-c764-d0cc558060e7"
      },
      "execution_count": 224,
      "outputs": [
        {
          "output_type": "execute_result",
          "data": {
            "text/plain": [
              "Text(0.5, 1.0, 'top 3 categories with most readers after November 15, 2018')"
            ]
          },
          "metadata": {},
          "execution_count": 224
        },
        {
          "output_type": "display_data",
          "data": {
            "text/plain": [
              "<Figure size 432x288 with 1 Axes>"
            ],
            "image/png": "[encoded data removed]"
          },
          "metadata": {
            "needs_background": "light"
          }
        }
      ]
    },
    {
      "cell_type": "markdown",
      "source": [
        "# **A reader of the magazine \"Elle\" reads on average how many times this same magazine on this dataset** "
      ],
      "metadata": {
        "id": "eRNaRBqdpKOS"
      }
    },
    {
      "cell_type": "code",
      "source": [
        "# from what i understood from the question that one reader read ELLE many times , so we have to calculate the average \n",
        "# for each reader for same magazine \n",
        "\n",
        "Elle_Pub = df[df['LabelPublication'] =='Elle']\n",
        "elle =Elle_Pub['IdUser'].value_counts() / len(df['LabelPublication'].unique())\n",
        "elle"
      ],
      "metadata": {
        "colab": {
          "base_uri": "https://localhost:8080/"
        },
        "id": "gh3EdvRRoL02",
        "outputId": "53c6d045-248a-4c5f-b4f7-58f7887abb53"
      },
      "execution_count": 225,
      "outputs": [
        {
          "output_type": "execute_result",
          "data": {
            "text/plain": [
              "618     0.026531\n",
              "941     0.019728\n",
              "2274    0.018367\n",
              "1324    0.017687\n",
              "395     0.016327\n",
              "          ...   \n",
              "1395    0.000680\n",
              "1430    0.000680\n",
              "1440    0.000680\n",
              "1492    0.000680\n",
              "1333    0.000680\n",
              "Name: IdUser, Length: 383, dtype: float64"
            ]
          },
          "metadata": {},
          "execution_count": 225
        }
      ]
    },
    {
      "cell_type": "code",
      "source": [
        "#how many time elle readings in the dataset \n",
        "avr_elle = df[df['LabelPublication'] =='Elle']\n",
        "avr_elle = len(avr_elle)/len(df)\n",
        "avr_elle*100 #ELLE represent 2.06 % for the intire dataset"
      ],
      "metadata": {
        "colab": {
          "base_uri": "https://localhost:8080/"
        },
        "id": "7hIVrx5Z2-wZ",
        "outputId": "a8099ba1-05e5-45be-d0aa-a9833e5ddd20"
      },
      "execution_count": 226,
      "outputs": [
        {
          "output_type": "execute_result",
          "data": {
            "text/plain": [
              "2.065517130379733"
            ]
          },
          "metadata": {},
          "execution_count": 226
        }
      ]
    },
    {
      "cell_type": "code",
      "source": [],
      "metadata": {
        "id": "59q5CHfT33Bj"
      },
      "execution_count": 226,
      "outputs": []
    },
    {
      "cell_type": "code",
      "source": [
        "df = pd.DataFrame(elle[:4]).transpose()\n",
        "df.plot.bar()"
      ],
      "metadata": {
        "colab": {
          "base_uri": "https://localhost:8080/",
          "height": 304
        },
        "id": "TqoK1XQgpxJr",
        "outputId": "ac53140d-4746-43c9-cab9-279986a1df01"
      },
      "execution_count": 227,
      "outputs": [
        {
          "output_type": "execute_result",
          "data": {
            "text/plain": [
              "<matplotlib.axes._subplots.AxesSubplot at 0x7f1f4939a250>"
            ]
          },
          "metadata": {},
          "execution_count": 227
        },
        {
          "output_type": "display_data",
          "data": {
            "text/plain": [
              "<Figure size 432x288 with 1 Axes>"
            ],
            "image/png": "[encoded data removed]"
          },
          "metadata": {
            "needs_background": "light"
          }
        }
      ]
    },
    {
      "cell_type": "code",
      "source": [
        "# the average of ELLE readings\n",
        "\n",
        "elle.mean()"
      ],
      "metadata": {
        "colab": {
          "base_uri": "https://localhost:8080/"
        },
        "id": "HGcBBBuBqIqG",
        "outputId": "6e029ce7-863b-45f7-de06-6d9feb30ccb9"
      },
      "execution_count": 228,
      "outputs": [
        {
          "output_type": "execute_result",
          "data": {
            "text/plain": [
              "0.003419122218077831"
            ]
          },
          "metadata": {},
          "execution_count": 228
        }
      ]
    },
    {
      "cell_type": "code",
      "source": [
        "#"
      ],
      "metadata": {
        "id": "NcpZ5blKtmyr"
      },
      "execution_count": 229,
      "outputs": []
    },
    {
      "cell_type": "code",
      "source": [],
      "metadata": {
        "id": "qCLVEt43uXOE"
      },
      "execution_count": 229,
      "outputs": []
    },
    {
      "cell_type": "code",
      "source": [],
      "metadata": {
        "id": "YrENLX5HzCIm"
      },
      "execution_count": 229,
      "outputs": []
    }
  ]
}